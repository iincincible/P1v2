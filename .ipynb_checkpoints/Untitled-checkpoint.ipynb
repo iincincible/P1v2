{
 "cells": [
  {
   "cell_type": "raw",
   "id": "7d203cbc-f26e-48a3-a2e7-4137aedde61e",
   "metadata": {},
   "source": [
    "import pandas as pd\n",
    "\n",
    "bets = pd.read_csv('data/processed/ausopen_2023_atp_value_bets.csv')\n",
    "bets.head()\n"
   ]
  },
  {
   "cell_type": "code",
   "execution_count": null,
   "id": "e5655e70-2275-40a5-a4bd-d42111c047d9",
   "metadata": {},
   "outputs": [],
   "source": []
  },
  {
   "cell_type": "code",
   "execution_count": 2,
   "id": "b438bb7d-d8d5-42dd-9205-2499e51ccd90",
   "metadata": {},
   "outputs": [
    {
     "name": "stdout",
     "output_type": "stream",
     "text": [
      "Number of value bets: 9\n",
      "Columns: ['market_id', 'player_1', 'player_2', 'odds_player_1', 'odds_player_2', 'actual_winner', 'winner_name', 'loser_name', 'match_date', 'player_1_clean', 'player_2_clean', 'selection_id_1', 'selection_id_2', 'ltp_player_1', 'ltp_player_2', 'implied_prob_1', 'implied_prob_2', 'odds_margin', 'implied_prob_diff', 'predicted_prob', 'odds', 'expected_value', 'kelly_stake', 'winner', 'confidence_score']\n",
      "First few bets:\n",
      "             player_1           player_2  odds  expected_value  winner  \\\n",
      "0   Diego Schwartzman    Oleksii Krutykh  1.71        0.465411       1   \n",
      "1       Nicolas Jarry  Miomir Kecmanovic  4.00        1.915758       1   \n",
      "2     Emil Ruusuvuori        Max Purcell  1.27        0.207336       1   \n",
      "3  Yoshihito Nishioka    Dalibor Svrcina  1.30        0.234021       1   \n",
      "4     Grigor Dimitrov        Laslo Djere  1.31        0.242155       1   \n",
      "\n",
      "   confidence_score  \n",
      "0          0.856965  \n",
      "1          0.728939  \n",
      "2          0.950658  \n",
      "3          0.949247  \n",
      "4          0.948210  \n"
     ]
    }
   ],
   "source": [
    "print(\"Number of value bets:\", len(bets))\n",
    "print(\"Columns:\", list(bets.columns))\n",
    "print(\"First few bets:\")\n",
    "print(bets[['player_1', 'player_2', 'odds', 'expected_value', 'winner', 'confidence_score']].head())"
   ]
  },
  {
   "cell_type": "code",
   "execution_count": 3,
   "id": "835aa583-5b18-4a25-9b9a-cecd1dc1c898",
   "metadata": {},
   "outputs": [
    {
     "name": "stdout",
     "output_type": "stream",
     "text": [
      "EV (expected value) stats:\n",
      " count    9.000000\n",
      "mean     0.822487\n",
      "std      0.706062\n",
      "min      0.207336\n",
      "25%      0.242155\n",
      "50%      0.564564\n",
      "75%      0.909517\n",
      "max      2.059229\n",
      "Name: expected_value, dtype: float64\n",
      "Odds stats:\n",
      " count    9.000000\n",
      "mean     2.205556\n",
      "std      1.127742\n",
      "min      1.270000\n",
      "25%      1.310000\n",
      "50%      1.740000\n",
      "75%      2.240000\n",
      "max      4.200000\n",
      "Name: odds, dtype: float64\n"
     ]
    }
   ],
   "source": [
    "print(\"EV (expected value) stats:\\n\", bets['expected_value'].describe())\n",
    "print(\"Odds stats:\\n\", bets['odds'].describe())\n"
   ]
  },
  {
   "cell_type": "code",
   "execution_count": 4,
   "id": "bee6520a-c79e-4c71-9c9b-15d5b08172bf",
   "metadata": {},
   "outputs": [
    {
     "data": {
      "image/png": "[encoded data removed]",
      "text/plain": [
       "<Figure size 640x480 with 1 Axes>"
      ]
     },
     "metadata": {},
     "output_type": "display_data"
    }
   ],
   "source": [
    "import matplotlib.pyplot as plt\n",
    "\n",
    "# Calculate profit for each bet\n",
    "bets['profit'] = bets.apply(lambda row: (row['odds']-1) if row['winner'] == 1 else -1, axis=1)\n",
    "bets['cum_profit'] = bets['profit'].cumsum()\n",
    "\n",
    "# Plot cumulative profit\n",
    "bets['cum_profit'].plot(title=\"Cumulative Profit on Value Bets\", ylabel=\"Profit ($)\")\n",
    "plt.show()\n"
   ]
  },
  {
   "cell_type": "code",
   "execution_count": 5,
   "id": "f9bbd60f-5dec-4fd5-a15a-4a1d51c77942",
   "metadata": {},
   "outputs": [
    {
     "data": {
      "text/html": [
       "<div>\n",
       "<style scoped>\n",
       "    .dataframe tbody tr th:only-of-type {\n",
       "        vertical-align: middle;\n",
       "    }\n",
       "\n",
       "    .dataframe tbody tr th {\n",
       "        vertical-align: top;\n",
       "    }\n",
       "\n",
       "    .dataframe thead th {\n",
       "        text-align: right;\n",
       "    }\n",
       "</style>\n",
       "<table border=\"1\" class=\"dataframe\">\n",
       "  <thead>\n",
       "    <tr style=\"text-align: right;\">\n",
       "      <th></th>\n",
       "      <th>player_1</th>\n",
       "      <th>player_2</th>\n",
       "      <th>odds</th>\n",
       "      <th>expected_value</th>\n",
       "      <th>winner</th>\n",
       "    </tr>\n",
       "  </thead>\n",
       "  <tbody>\n",
       "    <tr>\n",
       "      <th>5</th>\n",
       "      <td>Jiri Lehecka</td>\n",
       "      <td>Cameron Norrie</td>\n",
       "      <td>4.20</td>\n",
       "      <td>2.059229</td>\n",
       "      <td>1</td>\n",
       "    </tr>\n",
       "    <tr>\n",
       "      <th>1</th>\n",
       "      <td>Nicolas Jarry</td>\n",
       "      <td>Miomir Kecmanovic</td>\n",
       "      <td>4.00</td>\n",
       "      <td>1.915758</td>\n",
       "      <td>1</td>\n",
       "    </tr>\n",
       "    <tr>\n",
       "      <th>7</th>\n",
       "      <td>Andrey Rublev</td>\n",
       "      <td>Holger Rune</td>\n",
       "      <td>2.24</td>\n",
       "      <td>0.909517</td>\n",
       "      <td>1</td>\n",
       "    </tr>\n",
       "    <tr>\n",
       "      <th>8</th>\n",
       "      <td>Karen Khachanov</td>\n",
       "      <td>Sebastian Korda</td>\n",
       "      <td>2.08</td>\n",
       "      <td>0.804396</td>\n",
       "      <td>1</td>\n",
       "    </tr>\n",
       "    <tr>\n",
       "      <th>6</th>\n",
       "      <td>Tommy Paul</td>\n",
       "      <td>Jenson Brooksby</td>\n",
       "      <td>1.74</td>\n",
       "      <td>0.564564</td>\n",
       "      <td>1</td>\n",
       "    </tr>\n",
       "  </tbody>\n",
       "</table>\n",
       "</div>"
      ],
      "text/plain": [
       "          player_1           player_2  odds  expected_value  winner\n",
       "5     Jiri Lehecka     Cameron Norrie  4.20        2.059229       1\n",
       "1    Nicolas Jarry  Miomir Kecmanovic  4.00        1.915758       1\n",
       "7    Andrey Rublev        Holger Rune  2.24        0.909517       1\n",
       "8  Karen Khachanov    Sebastian Korda  2.08        0.804396       1\n",
       "6       Tommy Paul    Jenson Brooksby  1.74        0.564564       1"
      ]
     },
     "execution_count": 5,
     "metadata": {},
     "output_type": "execute_result"
    }
   ],
   "source": [
    "bets.sort_values('expected_value', ascending=False)[['player_1', 'player_2', 'odds', 'expected_value', 'winner']].head()\n"
   ]
  },
  {
   "cell_type": "code",
   "execution_count": 6,
   "id": "4f53438f-80cd-47f4-8968-40f052981ca7",
   "metadata": {},
   "outputs": [
    {
     "name": "stdout",
     "output_type": "stream",
     "text": [
      "Value bet win rate: 1.0\n"
     ]
    }
   ],
   "source": [
    "print(\"Value bet win rate:\", (bets['winner'] == 1).mean())\n"
   ]
  },
  {
   "cell_type": "code",
   "execution_count": 7,
   "id": "983a2560-f32f-434d-ad96-8bac804c1bb3",
   "metadata": {},
   "outputs": [
    {
     "data": {
      "image/png": "[encoded data removed]",
      "text/plain": [
       "<Figure size 640x480 with 1 Axes>"
      ]
     },
     "metadata": {},
     "output_type": "display_data"
    }
   ],
   "source": [
    "bets['expected_value'].hist(bins=8)\n",
    "plt.title(\"Distribution of Expected Value (EV) for Value Bets\")\n",
    "plt.xlabel(\"Expected Value\")\n",
    "plt.ylabel(\"Number of Bets\")\n",
    "plt.show()\n"
   ]
  },
  {
   "cell_type": "raw",
   "id": "8af0eaa2-e0da-4dc5-b45a-701bbd95e1c8",
   "metadata": {},
   "source": []
  },
  {
   "cell_type": "code",
   "execution_count": null,
   "id": "7600b3a4-47c6-471c-8c57-804c16016926",
   "metadata": {},
   "outputs": [],
   "source": []
  }
 ],
 "metadata": {
  "kernelspec": {
   "display_name": "Python 3 (ipykernel)",
   "language": "python",
   "name": "python3"
  },
  "language_info": {
   "codemirror_mode": {
    "name": "ipython",
    "version": 3
   },
   "file_extension": ".py",
   "mimetype": "text/x-python",
   "name": "python",
   "nbconvert_exporter": "python",
   "pygments_lexer": "ipython3",
   "version": "3.13.3"
  }
 },
 "nbformat": 4,
 "nbformat_minor": 5
}
